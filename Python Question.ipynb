{
 "cells": [
  {
   "cell_type": "markdown",
   "metadata": {},
   "source": [
    "1) Sum of two large number"
   ]
  },
  {
   "cell_type": "code",
   "execution_count": 1,
   "metadata": {},
   "outputs": [
    {
     "name": "stdout",
     "output_type": "stream",
     "text": [
      "124691356\n"
     ]
    }
   ],
   "source": [
    "def sum_big(num1,num2):\n",
    "    large_sum = ''\n",
    "    carryforward = 0\n",
    "    zeroes = ''\n",
    "    try:\n",
    "        if isinstance(num1, int) and isinstance(num2, int):\n",
    "            result = num1 + num2\n",
    "            return result\n",
    "        elif isinstance(num1, str) or isinstance(num2,str):\n",
    "            # equalizing the size of both string\n",
    "            s1 = str(num1)\n",
    "            s2 = str(num2)\n",
    "            if len(s1) > len(s2):\n",
    "                for i in range(len(s1)-len(s2)):\n",
    "                    zeroes += '0'\n",
    "                s2 = zeroes + s2\n",
    "            elif len(s1) < len(s2):\n",
    "                for i in range(len(s2)-len(s1)):\n",
    "                    zeroes += '0'\n",
    "                s1 = zeroes + s1\n",
    "            else:\n",
    "                pass\n",
    "        # addition operation\n",
    "        for digit in range(len(s1)):\n",
    "            num = int(s1[-digit-1]) + int(s2[-digit-1]) + carryforward\n",
    "            if len(str(num))>1:\n",
    "                carryforward = num//10\n",
    "                num = num%10\n",
    "                large_sum += str(num)\n",
    "            else:\n",
    "                large_sum += str(num)\n",
    "                carryforward = 0\n",
    "        return int(large_sum[::-1])\n",
    "    except Exception as e:\n",
    "        print(\"Exception is :\" + str(e))\n",
    "\n",
    "#driver code\n",
    "num1,num2 = '1234567',123456789\n",
    "res = sum_big(num1,num2)\n",
    "print(res)"
   ]
  },
  {
   "cell_type": "markdown",
   "metadata": {},
   "source": [
    "2) Reverse of a string using loops or slicing"
   ]
  },
  {
   "cell_type": "code",
   "execution_count": 18,
   "metadata": {},
   "outputs": [
    {
     "name": "stdout",
     "output_type": "stream",
     "text": [
      "fedcba\n"
     ]
    }
   ],
   "source": [
    "# slicing\n",
    "def string_reverse_slicing(string):\n",
    "    rev_str = ''\n",
    "    try:\n",
    "        if isinstance(string,str):\n",
    "            rev_str = string[::-1]\n",
    "            return rev_str\n",
    "        else:\n",
    "            print(\"Input String is not a type of 'str' \")\n",
    "    except Exception as e:\n",
    "        print(\"Exception is: \" + str(e))\n",
    "\n",
    "\n",
    "# driver code\n",
    "string = 'abcdef'\n",
    "rev = string_reverse_slicing(string)\n",
    "print(rev)"
   ]
  },
  {
   "cell_type": "code",
   "execution_count": 19,
   "metadata": {},
   "outputs": [
    {
     "name": "stdout",
     "output_type": "stream",
     "text": [
      "fedcba\n"
     ]
    }
   ],
   "source": [
    "# loop\n",
    "\n",
    "def string_reverse_loop(string):\n",
    "    rev_str = ''\n",
    "    try:\n",
    "        if isinstance(string,str):\n",
    "            for i in range(1,len(string)+1):\n",
    "                rev_str += string[-i]\n",
    "            return rev_str\n",
    "        else:\n",
    "            print(\"Input String is not a type of 'str' \")\n",
    "    except Exception as e:\n",
    "        print(\"Exception is: \" + str(e))\n",
    "\n",
    "# driver code\n",
    "string = 'abcdef'\n",
    "rev = string_reverse_loop(string)\n",
    "print(rev)    "
   ]
  },
  {
   "cell_type": "markdown",
   "metadata": {},
   "source": [
    "3) Convert a list into string"
   ]
  },
  {
   "cell_type": "code",
   "execution_count": 34,
   "metadata": {},
   "outputs": [
    {
     "name": "stdout",
     "output_type": "stream",
     "text": [
      "1234123\n"
     ]
    }
   ],
   "source": [
    "def list_conversion_str(array):\n",
    "    try:\n",
    "        if isinstance(array, list):\n",
    "            return ''.join(str(x) for x in array)\n",
    "        else:\n",
    "            print(\"Input Type is not a type of list\")\n",
    "    except Exception as e:\n",
    "        print(\"Exception is :\" + str(e))\n",
    "\n",
    "#driver code\n",
    "arr = ['abc',1,'b',34]\n",
    "con = list_conversion_str(arr)\n",
    "print(con)"
   ]
  },
  {
   "cell_type": "markdown",
   "metadata": {},
   "source": [
    "4) Extract numbers from string"
   ]
  },
  {
   "cell_type": "code",
   "execution_count": 39,
   "metadata": {},
   "outputs": [
    {
     "name": "stdout",
     "output_type": "stream",
     "text": [
      "abc1b34\n"
     ]
    }
   ],
   "source": [
    "def extract_num(string):\n",
    "    try:\n",
    "        if isinstance(string,str):\n",
    "            return ''.join(x for x in string if x.isdigit())\n",
    "        else:\n",
    "            print(\"Input String is not a type of 'str' \")\n",
    "    except Exception as e:\n",
    "        print(\"Exception is: \" + str(e))\n",
    "            \n",
    "# driver code\n",
    "string = 'a1234bc1d23ef'\n",
    "num = extract_num(string)\n",
    "print(num) \n"
   ]
  },
  {
   "cell_type": "markdown",
   "metadata": {},
   "source": [
    "5) Program to print duplicates from a list of integers"
   ]
  },
  {
   "cell_type": "code",
   "execution_count": 69,
   "metadata": {},
   "outputs": [
    {
     "name": "stdout",
     "output_type": "stream",
     "text": [
      "[1, 3, 4]\n"
     ]
    }
   ],
   "source": [
    "def duplicates(arr):\n",
    "    count_dict = {}\n",
    "    dup_num = []\n",
    "    try:\n",
    "        if isinstance(arr, list):\n",
    "            for num in arr:\n",
    "                if isinstance(num, int):\n",
    "                    if num in count_dict:\n",
    "                        count_dict[num] += 1\n",
    "                    else:\n",
    "                        count_dict[num] = 1\n",
    "                else:\n",
    "                    print(\"Element Type is not of integer\")\n",
    "        else:\n",
    "            print(\"Input Type is not a type of list\")\n",
    "        for i in count_dict:\n",
    "            if count_dict[i] == 1:\n",
    "                pass\n",
    "            else:\n",
    "                dup_num.append(i)\n",
    "        return dup_num\n",
    "    except Exception as e:\n",
    "        print(\"Exception is :\" + str(e))\n",
    "\n",
    "# Driver Code\n",
    "arr = [1,2,3,4,1,4,6,7,3]\n",
    "dup = duplicates(arr)\n",
    "print(dup)"
   ]
  },
  {
   "cell_type": "markdown",
   "metadata": {},
   "source": [
    "6) Program to print N minimum elements from a list of integers (or Find the smallest and second smallest elements in an array)"
   ]
  },
  {
   "cell_type": "code",
   "execution_count": 70,
   "metadata": {},
   "outputs": [
    {
     "name": "stdout",
     "output_type": "stream",
     "text": [
      "[1, 2, 3, 4, 6]\n"
     ]
    }
   ],
   "source": [
    "def N_minimum(n,arr):\n",
    "    try:\n",
    "        if isinstance(arr, list):\n",
    "            if n < 0:\n",
    "                print(\"Please enter Positive Number\")\n",
    "            else:\n",
    "                res = sorted(arr)\n",
    "                return res[:n]\n",
    "        else:\n",
    "            print(\"Input Type is not a type of list\")\n",
    "    except Exception as e:\n",
    "        print(\"Exception is :\" + str(e))\n",
    "#Driver Code  \n",
    "arr = [1,6,7,8,9,2,4,3]\n",
    "minimum = N_minimum(5,arr)\n",
    "print(minimum)"
   ]
  },
  {
   "cell_type": "markdown",
   "metadata": {},
   "source": [
    "7) Convert a list of multiple integers into a single integer"
   ]
  },
  {
   "cell_type": "code",
   "execution_count": 71,
   "metadata": {},
   "outputs": [
    {
     "name": "stdout",
     "output_type": "stream",
     "text": [
      "16789243\n"
     ]
    }
   ],
   "source": [
    "def create_bigint(arr):\n",
    "    try:\n",
    "        if isinstance(arr,list):\n",
    "            big = ''.join(str(x) for x in arr if isinstance(x,int))\n",
    "            return int(big)\n",
    "        else:\n",
    "            print(\"Input Type is not a type of list\")\n",
    "    except Exception as e:\n",
    "        print(\"Exception is :\" + str(e))\n",
    "#Driver Code  \n",
    "arr = [1,6,7,8,9,2,4,3]\n",
    "minimum = create_bigint(arr)\n",
    "print(minimum)"
   ]
  },
  {
   "cell_type": "markdown",
   "metadata": {},
   "source": [
    "8) Convert a list into tuple of lists"
   ]
  },
  {
   "cell_type": "code",
   "execution_count": 7,
   "metadata": {},
   "outputs": [
    {
     "name": "stdout",
     "output_type": "stream",
     "text": [
      "([1], [2], [3], [4])\n"
     ]
    }
   ],
   "source": [
    "def list2tup(arr):\n",
    "    try:\n",
    "        if isinstance(arr, list):\n",
    "            result = tuple([elem] for elem in arr)\n",
    "            return result\n",
    "        else:\n",
    "            print(\"Input Type is not a type of list\")\n",
    "    except Exception as e:\n",
    "        print(\"Exception is :\" + str(e))\n",
    "#Driver Code\n",
    "arr = [1,2,3,4]\n",
    "res = list2tup(arr)\n",
    "print(res)"
   ]
  },
  {
   "cell_type": "markdown",
   "metadata": {},
   "source": [
    "9) Convert list of tuple into dictionary"
   ]
  },
  {
   "cell_type": "code",
   "execution_count": 72,
   "metadata": {},
   "outputs": [
    {
     "name": "stdout",
     "output_type": "stream",
     "text": [
      "{0: (1, 2, 3), 1: (2, 3, 4)}\n"
     ]
    }
   ],
   "source": [
    "def conv2dict(arr):\n",
    "    res_dict = {}\n",
    "    try:\n",
    "        if isinstance(arr, list):\n",
    "            for key in range(len(arr)):\n",
    "                res_dict[key] = arr[key]\n",
    "            return res_dict\n",
    "        else:\n",
    "            print(\"Input Type is not a type of list\")\n",
    "    except Exception as e:\n",
    "        print(\"Exception is :\" + str(e))\n",
    "#driver code\n",
    "arr = [(1,2,3),(2,3,4)]\n",
    "res = conv2dict(arr)\n",
    "print(res)"
   ]
  },
  {
   "cell_type": "markdown",
   "metadata": {},
   "source": [
    "10) Sort list elements by frequency"
   ]
  },
  {
   "cell_type": "code",
   "execution_count": 46,
   "metadata": {},
   "outputs": [
    {
     "name": "stdout",
     "output_type": "stream",
     "text": [
      "[3, 2, 1, 4]\n"
     ]
    }
   ],
   "source": [
    "def frequency_sort(arr):\n",
    "    try:\n",
    "        if isinstance(arr, list):\n",
    "            result = sorted(arr, key=arr.count, reverse=True)\n",
    "            return result\n",
    "        else:\n",
    "            print(\"Input Type is not a type of list\")\n",
    "    except Exception as e:\n",
    "        print(\"Exceptions is :\" + str(e))\n",
    "\n",
    "# driver code\n",
    "arr = [1,1,2,2,2,3,3,3,3,4,4]\n",
    "res = frequency_sort(arr)\n",
    "print(res)"
   ]
  },
  {
   "cell_type": "markdown",
   "metadata": {},
   "source": [
    "11) Sort tuple list by Nth element of tuple"
   ]
  },
  {
   "cell_type": "code",
   "execution_count": 45,
   "metadata": {},
   "outputs": [
    {
     "name": "stdout",
     "output_type": "stream",
     "text": [
      "[(8, 1, 3), (6, 2, 4), (3, 5, 4)]\n"
     ]
    }
   ],
   "source": [
    "def sort_tuple_list(arr,n=0):\n",
    "    try:\n",
    "        if isinstance(arr, list):\n",
    "            for elem_type in arr:\n",
    "                if not isinstance(elem_type, tuple): \n",
    "                    print(\"Elements in list is not type of tuple\")\n",
    "                    return None\n",
    "                    break\n",
    "                elif  n >= len(elem_type):\n",
    "                    print(\"Index out of range\")\n",
    "                    return None\n",
    "                    break\n",
    "            res = sorted(arr, key=lambda x:x[n])\n",
    "            return res\n",
    "                    \n",
    "        else:\n",
    "            print(\"Input Type is not a type of list\")\n",
    "    except Exception as e:\n",
    "        print(\"Exceptions is :\" + str(e))\n",
    "\n",
    "# Driver Code\n",
    "arr = [(6,2,4),(8,1,3),(3,5,4)]\n",
    "res = sort_tuple_list(arr,1)\n",
    "print(res)"
   ]
  },
  {
   "cell_type": "markdown",
   "metadata": {},
   "source": [
    "12) Sort given list by frequency and remove duplicates"
   ]
  },
  {
   "cell_type": "code",
   "execution_count": 47,
   "metadata": {},
   "outputs": [
    {
     "name": "stdout",
     "output_type": "stream",
     "text": [
      "[3, 2, 1, 4]\n"
     ]
    }
   ],
   "source": [
    "def frequency_sort_remove_dup(arr):\n",
    "    try:\n",
    "        if isinstance(arr, list):\n",
    "            result = sorted(arr, key=arr.count, reverse=True)\n",
    "            return list(dict.fromkeys(result))\n",
    "        else:\n",
    "            print(\"Input Type is not a type of list\")\n",
    "    except Exception as e:\n",
    "        print(\"Exceptions is :\" + str(e))\n",
    "\n",
    "# driver code\n",
    "arr = [1,1,2,2,2,3,3,3,3,4,4]\n",
    "res = frequency_sort_remove_dup(arr)\n",
    "print(res)"
   ]
  },
  {
   "cell_type": "markdown",
   "metadata": {},
   "source": [
    "13) Convert list of string into sorted list of integer    "
   ]
  },
  {
   "cell_type": "code",
   "execution_count": 49,
   "metadata": {},
   "outputs": [
    {
     "name": "stdout",
     "output_type": "stream",
     "text": [
      "[0, 2, 3, 4, 9]\n"
     ]
    }
   ],
   "source": [
    "def sort_string2int(arr):\n",
    "    try:\n",
    "        if isinstance(arr, list):\n",
    "            res = sorted(map(int, arr))\n",
    "            return res\n",
    "        else:\n",
    "            print(\"Input Type is not a type of list\")\n",
    "    except Exception as e:\n",
    "        print(\"Exceptions is :\" + str(e))\n",
    "\n",
    "# driver code\n",
    "arr = ['9','2','4','0','3']\n",
    "res = sort_string2int(arr)\n",
    "print(res)"
   ]
  },
  {
   "cell_type": "markdown",
   "metadata": {},
   "source": [
    "14) Program to convert a tuple to a string"
   ]
  },
  {
   "cell_type": "code",
   "execution_count": 95,
   "metadata": {},
   "outputs": [
    {
     "name": "stdout",
     "output_type": "stream",
     "text": [
      "aaaaa b 1\n"
     ]
    }
   ],
   "source": [
    "def tuple2str(arr):\n",
    "    try:\n",
    "        if isinstance(arr, tuple):\n",
    "            result = \"\".join(str(i) for i in arr)\n",
    "            return result\n",
    "        else:\n",
    "            print(\"Input Type is not a type of tuple\")\n",
    "    except Exception as e:\n",
    "        print(\"Exceptions is :\" + str(e))\n",
    "\n",
    "# driver code\n",
    "arr = ('aaaaa','b',1)\n",
    "res = tuple2str(arr)\n",
    "print(res)"
   ]
  },
  {
   "cell_type": "markdown",
   "metadata": {},
   "source": [
    "15) Python program to create a list of tuples from given list having number and its cube in each tuple"
   ]
  },
  {
   "cell_type": "code",
   "execution_count": 63,
   "metadata": {},
   "outputs": [
    {
     "name": "stdout",
     "output_type": "stream",
     "text": [
      "[(1, 1), (3, 27), (9, 729)]\n"
     ]
    }
   ],
   "source": [
    "def cube_tuple(arr):\n",
    "    try:\n",
    "        if isinstance(arr, list):\n",
    "            for elem in arr:\n",
    "                if not isinstance(elem, int):\n",
    "                    print(\"Unexpected Element type in list\")\n",
    "                    break                \n",
    "            result = list(map(lambda x: (x,x**3), arr))\n",
    "            return result\n",
    "        else:\n",
    "            print(\"Input Type is not a type of List\")\n",
    "    except Exception as e:\n",
    "        print(\"Exceptions is :\" + str(e))\n",
    "# driver code\n",
    "arr = [1,3,9]\n",
    "res = cube_tuple(arr)\n",
    "print(res)"
   ]
  },
  {
   "cell_type": "markdown",
   "metadata": {},
   "source": [
    "16) Merge list of tuple into list by joining the strings"
   ]
  },
  {
   "cell_type": "code",
   "execution_count": 96,
   "metadata": {},
   "outputs": [
    {
     "name": "stdout",
     "output_type": "stream",
     "text": [
      "['hello 12', 'hello XYZ']\n"
     ]
    }
   ],
   "source": [
    "def merge_tuple2str(arr):\n",
    "    result = []\n",
    "    try:\n",
    "        if isinstance(arr, list):\n",
    "            for tup in arr:\n",
    "                if not isinstance(tup, tuple):\n",
    "                    print(\"Unexpected Element type in list\")\n",
    "                    break\n",
    "                else:\n",
    "                    merge = \" \".join(str(i) for i in tup)\n",
    "                    result.append(merge)           \n",
    "            return result \n",
    "        else:\n",
    "            print(\"Input Type is not a type of List\")\n",
    "    except Exception as e:\n",
    "        print(\"Exceptions is :\" + str(e))\n",
    "\n",
    "# driver code\n",
    "arr = [(\"hello\", 12), (\"hello\", \"XYZ\")]\n",
    "res = merge_tuple2str(arr)\n",
    "print(res)"
   ]
  },
  {
   "cell_type": "markdown",
   "metadata": {},
   "source": [
    "17) Pair and combine nested list to tuple list"
   ]
  },
  {
   "cell_type": "code",
   "execution_count": 2,
   "metadata": {},
   "outputs": [
    {
     "name": "stdout",
     "output_type": "stream",
     "text": [
      "[(1, 1, 1, 1, 1, 1), (2, 2, 2, 2, 2, 2), (3, 3, 3, 3, 3, 3)]\n"
     ]
    }
   ],
   "source": [
    "def nestedList2tupleList(arr):\n",
    "    try:\n",
    "        if isinstance(arr, list):\n",
    "            res_dict = {}\n",
    "            for i in range(len(arr)):\n",
    "                for j in range(len(arr[i])):\n",
    "                    if j in res_dict:\n",
    "                        res_dict[j].append(arr[i][j])\n",
    "                    else:\n",
    "                        res_dict[j] = [arr[i][j]]\n",
    "            res = [tuple(res_dict[i]) for i in res_dict]\n",
    "            return res\n",
    "        else:\n",
    "            print(\"Unexpected Input Type\")\n",
    "    except Exception as e:\n",
    "        print(\"Exception is:\" + str(e))\n",
    "arr = [[1,2,3],[1,2,3],[1,2,3],[1,2,3],[1,2,3],[1,2,3],]\n",
    "res = nestedList2tupleList(arr)\n",
    "print(res)"
   ]
  },
  {
   "cell_type": "markdown",
   "metadata": {},
   "source": [
    "18) Grouped summation of tuple list"
   ]
  },
  {
   "cell_type": "code",
   "execution_count": 9,
   "metadata": {},
   "outputs": [
    {
     "name": "stdout",
     "output_type": "stream",
     "text": [
      "{'a': 6, 'b': 5, 'c': 9}\n"
     ]
    }
   ],
   "source": [
    "def grouped_summation(arr):\n",
    "    try:\n",
    "        grouped = {}\n",
    "        if isinstance(arr, list):\n",
    "            for tup in arr:\n",
    "                if len(tup) == 2:\n",
    "                    key, value = tup[0], tup[1]\n",
    "                    if key in grouped:\n",
    "                        grouped[key] += value\n",
    "                    else:\n",
    "                        grouped[key] = value\n",
    "                else:\n",
    "                    print(\"Tuple size is not equal to 2\")\n",
    "            return grouped\n",
    "    except Exception as e:\n",
    "        print(\"Exception is: \" + str(e))\n",
    "\n",
    "# Driver Code\n",
    "arr = [('a',1),('b',1),('c',1),('a',5),('b',4),('c',8),]\n",
    "res = grouped_summation(arr)\n",
    "print(res)"
   ]
  },
  {
   "cell_type": "markdown",
   "metadata": {},
   "source": [
    "19) Join tuple elements in a list"
   ]
  },
  {
   "cell_type": "code",
   "execution_count": 14,
   "metadata": {},
   "outputs": [
    {
     "name": "stdout",
     "output_type": "stream",
     "text": [
      "['4', '5', '6', 1, 2, 3]\n"
     ]
    }
   ],
   "source": [
    "def tup2list(arr, tup):\n",
    "    try:\n",
    "        if isinstance(arr, list) and (tup, tuple):\n",
    "            res = [','.join(str(elem)) for elem in tup]\n",
    "            res += arr\n",
    "            return res\n",
    "        else:\n",
    "            print(\"Unexpected input type\")        \n",
    "    except Exception as e:\n",
    "        print(\"Exception is:\" + str(e))\n",
    "# Driver Code\n",
    "arr, tup = [1,2,3],(4,5,6)\n",
    "result = tup2list(arr, tup)\n",
    "print(result)"
   ]
  },
  {
   "cell_type": "markdown",
   "metadata": {},
   "source": [
    "20) Summation of list as tuple attribute"
   ]
  },
  {
   "cell_type": "code",
   "execution_count": 12,
   "metadata": {},
   "outputs": [
    {
     "name": "stdout",
     "output_type": "stream",
     "text": [
      "[('a', 6), ('b', 6), ('c', 6), ('d', 6), ('e', 6)]\n"
     ]
    }
   ],
   "source": [
    "def tupSum(arr):\n",
    "    try:\n",
    "        if isinstance(arr, list):\n",
    "            res = list(map(lambda x: (x[0], sum(x[1])), arr))\n",
    "            return res\n",
    "        else:\n",
    "            print(\"Unexpected Input Type\")\n",
    "    except Exception as e:\n",
    "        print(\"Exception is:\" + str(e))\n",
    "        \n",
    "# Driver Code\n",
    "arr = [('a',[1,2,3]),('b',[1,2,3]),('c',[1,2,3]),('d',[1,2,3]),('e',[1,2,3]),]\n",
    "res = tupSum(arr)\n",
    "print(res)"
   ]
  },
  {
   "cell_type": "markdown",
   "metadata": {},
   "source": [
    "21) Reverse each tuple in a list of tuples"
   ]
  },
  {
   "cell_type": "code",
   "execution_count": 15,
   "metadata": {},
   "outputs": [
    {
     "data": {
      "text/plain": [
       "[(3, 2, 1), (5, 4, 3), (6, 5, 4), (9, 8, 7)]"
      ]
     },
     "execution_count": 15,
     "metadata": {},
     "output_type": "execute_result"
    }
   ],
   "source": [
    "def tup2reverse(arr):\n",
    "    try:\n",
    "        if isinstance(arr, list):\n",
    "            res = [tup[::-1] for tup in arr]\n",
    "            return res\n",
    "        else:\n",
    "            print(\"Unexpected Input Type\")\n",
    "    except Exception as e:\n",
    "        print(\"Exception is:\" + str(e))\n",
    "\n",
    "# Driver Code\n",
    "arr = [(1,2,3),(3,4,5),(4,5,6),(7,8,9)]\n",
    "res =  tup2reverse(arr)\n",
    "res"
   ]
  },
  {
   "cell_type": "markdown",
   "metadata": {},
   "source": [
    "22) Modifying tuple contents with list"
   ]
  },
  {
   "cell_type": "code",
   "execution_count": 74,
   "metadata": {},
   "outputs": [
    {
     "data": {
      "text/plain": [
       "[('python', 27), ('java', 38)]"
      ]
     },
     "execution_count": 74,
     "metadata": {},
     "output_type": "execute_result"
    }
   ],
   "source": [
    "def modlisttup(arr, rep):\n",
    "    try:\n",
    "        if isinstance(arr, list) and isinstance(rep, list):\n",
    "            res = [(i[0], j) for i, j in zip(arr, rep)]\n",
    "            return res\n",
    "        else:\n",
    "            print(\"Unexpected Input Type\")\n",
    "    except Exception as e:\n",
    "        print(\"Exception is: \" + str(e))\n",
    "\n",
    "# Driver Code\n",
    "arr, rep = [('python', 25),('java', 34)],[27,38]\n",
    "res = modlisttup(arr, rep)\n",
    "res"
   ]
  },
  {
   "cell_type": "markdown",
   "metadata": {},
   "source": [
    "23) Dictionary to list of tuple conversion"
   ]
  },
  {
   "cell_type": "code",
   "execution_count": 19,
   "metadata": {},
   "outputs": [
    {
     "data": {
      "text/plain": [
       "[(0, [1, 2, 3]), (1, [4, 5, 6]), (2, [7, 8, 9]), (3, [10, 11, 12])]"
      ]
     },
     "execution_count": 19,
     "metadata": {},
     "output_type": "execute_result"
    }
   ],
   "source": [
    "def dict2listtup(datadict):\n",
    "    try:\n",
    "        if isinstance(datadict, dict):\n",
    "            res = [tuple([elem, datadict[elem]]) for elem in datadict ]\n",
    "            return res\n",
    "        else:\n",
    "            print(\"Unexpected Input Type\")\n",
    "    except Exception as e:\n",
    "        print(\"Exception is:\" + str(e))\n",
    "\n",
    "# Driver Code\n",
    "data = {0:[1,2,3],1:[4,5,6],2:[7,8,9],3:[10,11,12],}\n",
    "res = dict2listtup(data)\n",
    "res"
   ]
  },
  {
   "cell_type": "markdown",
   "metadata": {},
   "source": [
    "24) Remove particular element from tuple list"
   ]
  },
  {
   "cell_type": "code",
   "execution_count": 22,
   "metadata": {},
   "outputs": [
    {
     "data": {
      "text/plain": [
       "[('a', 'c'), ('a', 'b', 'c'), ('a', 'b', 'c'), ('a', 'b')]"
      ]
     },
     "execution_count": 22,
     "metadata": {},
     "output_type": "execute_result"
    }
   ],
   "source": [
    "def removetup(arr, N):\n",
    "    try:\n",
    "        if isinstance(arr, list):\n",
    "            res = [tuple(elem for elem in tup if N != elem) for tup in arr]\n",
    "            return res\n",
    "        else:\n",
    "            print(\"Unexpected Input Type\")\n",
    "    except Exception as e:\n",
    "        print(\"Exception is:\" + str(e))\n",
    "\n",
    "# Driver Code\n",
    "arr = [('a','d','c'),('a','b','c'),('a','b','c'),('a','b','d'),]\n",
    "res = removetup(arr,\"d\")\n",
    "res"
   ]
  },
  {
   "cell_type": "markdown",
   "metadata": {},
   "source": [
    "25) Group by matching second tuple value in list of tuples"
   ]
  },
  {
   "cell_type": "code",
   "execution_count": 3,
   "metadata": {},
   "outputs": [
    {
     "data": {
      "text/plain": [
       "{34: [(12, 34), (12, 34)], 39: [(12, 39)], 78: [(12, 78)], 56: [(12, 56)]}"
      ]
     },
     "execution_count": 3,
     "metadata": {},
     "output_type": "execute_result"
    }
   ],
   "source": [
    "def groupbylisttup(arr):\n",
    "    try:\n",
    "        if isinstance(arr, list):\n",
    "            groupdict = {}\n",
    "            for tup in arr:\n",
    "                if tup[1] in groupdict:\n",
    "                    groupdict[tup[1]].append(tup)\n",
    "                else:\n",
    "                    groupdict[tup[1]] = [tup]\n",
    "            return groupdict\n",
    "        else:\n",
    "            print(\"Unexpected Input Type\")\n",
    "    except Exception as e:\n",
    "        print(\"Exception is:\" + str(e))\n",
    "        \n",
    "# Driver Code\n",
    "arr = [(12,34),(12,34),(12,39),(12,78),(12,56),]\n",
    "res = groupbylisttup(arr)\n",
    "res"
   ]
  },
  {
   "cell_type": "markdown",
   "metadata": {},
   "source": [
    "26) Program to print N minimum elements from list of integers"
   ]
  },
  {
   "cell_type": "code",
   "execution_count": 10,
   "metadata": {},
   "outputs": [
    {
     "name": "stdout",
     "output_type": "stream",
     "text": [
      "[1, 3]\n"
     ]
    }
   ],
   "source": [
    "def N_minimum(arr, N):\n",
    "    try:\n",
    "        res = set()\n",
    "        if isinstance(arr, list) and isinstance(N, int):\n",
    "            if N <= 0:\n",
    "                print(\"Please Enter Positive number and greater than 0\")\n",
    "            elif N < len(arr):\n",
    "                for i in range(len(arr)):\n",
    "                    for j in range(i+1,len(arr)):\n",
    "                        while(len(res) <= N-1):\n",
    "                            if arr[i] <= arr[j]:\n",
    "                                res.add(arr[i])\n",
    "                                break\n",
    "                            else:\n",
    "                                res.add(arr[j])\n",
    "                                break\n",
    "                return list(res)\n",
    "            else:\n",
    "                result = sorted(arr)\n",
    "                return result\n",
    "        else:\n",
    "            print(\"Unexpected Input Type\")\n",
    "    except Exception as e:\n",
    "        print(\"Exception is:\" + str(e))\n",
    "\n",
    "# Driver Code\n",
    "arr = [3,7,1,5]\n",
    "res = N_minimum(arr, 2)\n",
    "print(res)"
   ]
  },
  {
   "cell_type": "markdown",
   "metadata": {},
   "source": [
    "27) Program to count duplicates in a list of tuples"
   ]
  },
  {
   "cell_type": "code",
   "execution_count": 8,
   "metadata": {},
   "outputs": [
    {
     "data": {
      "text/plain": [
       "{(1, 2): 2, (2, 2): 2, (1, 4): 1}"
      ]
     },
     "execution_count": 8,
     "metadata": {},
     "output_type": "execute_result"
    }
   ],
   "source": [
    "def countDuplicate(arr):\n",
    "    try:\n",
    "        res = {}\n",
    "        if isinstance(arr, list):\n",
    "            for elem in arr:\n",
    "                if elem in res:\n",
    "                    res[elem] += 1\n",
    "                else:\n",
    "                    res[elem] = 1\n",
    "            return res\n",
    "        else:\n",
    "            print(\"Unexpected Input Type\")\n",
    "    except Exception as e:\n",
    "        print(\"Exception is:\" + str(e))\n",
    "# Driver Code\n",
    "arr = [(1,2),(2,2),(1,4),(1,2),(2,2),]\n",
    "res = countDuplicate(arr)\n",
    "res"
   ]
  },
  {
   "cell_type": "markdown",
   "metadata": {},
   "source": [
    "28) Python program to print even numbers in a list"
   ]
  },
  {
   "cell_type": "code",
   "execution_count": 15,
   "metadata": {},
   "outputs": [
    {
     "data": {
      "text/plain": [
       "[2, 4, 6]"
      ]
     },
     "execution_count": 15,
     "metadata": {},
     "output_type": "execute_result"
    }
   ],
   "source": [
    "def even_num(arr):\n",
    "    try:\n",
    "        if isinstance(arr, list):\n",
    "            even = [num for num in arr if num%2 == 0]\n",
    "            return even\n",
    "        else:\n",
    "            print(\"Unexpected Input Type\")\n",
    "    except Exception as e:\n",
    "        print(\"Exception is:\" + str(e))\n",
    "# Driver Code\n",
    "arr = [1,2,3,4,5,6,7,]\n",
    "res = even_num(arr)\n",
    "res"
   ]
  },
  {
   "cell_type": "markdown",
   "metadata": {},
   "source": [
    "29) Python program to print odd numbers in a List"
   ]
  },
  {
   "cell_type": "code",
   "execution_count": 14,
   "metadata": {},
   "outputs": [
    {
     "data": {
      "text/plain": [
       "[1, 3, 5, 7]"
      ]
     },
     "execution_count": 14,
     "metadata": {},
     "output_type": "execute_result"
    }
   ],
   "source": [
    "def odd_num(arr):\n",
    "    try:\n",
    "        if isinstance(arr, list):\n",
    "            odd = [num for num in arr if num%2 != 0]\n",
    "            return odd\n",
    "        else:\n",
    "            print(\"Unexpected Input Type\")\n",
    "    except Exception as e:\n",
    "        print(\"Exception is:\" + str(e))\n",
    "# Driver Code\n",
    "arr = [1,2,3,4,5,6,7,]\n",
    "res = odd_num(arr)\n",
    "res"
   ]
  },
  {
   "cell_type": "markdown",
   "metadata": {},
   "source": [
    "30) Python program to print positive numbers in a list"
   ]
  },
  {
   "cell_type": "code",
   "execution_count": 17,
   "metadata": {},
   "outputs": [
    {
     "data": {
      "text/plain": [
       "[0, 2, 4, 5, 6]"
      ]
     },
     "execution_count": 17,
     "metadata": {},
     "output_type": "execute_result"
    }
   ],
   "source": [
    "def pos_num(arr):\n",
    "    try:\n",
    "        if isinstance(arr, list):\n",
    "            pos = [num for num in arr if num >= 0]\n",
    "            return pos\n",
    "        else:\n",
    "            print(\"Unexpected Input Type\")\n",
    "    except Exception as e:\n",
    "        print(\"Exception is:\" + str(e))\n",
    "# Driver Code\n",
    "arr = [0,2,-3,4,5,6,-7,]\n",
    "res = pos_num(arr)\n",
    "res"
   ]
  },
  {
   "cell_type": "markdown",
   "metadata": {},
   "source": [
    "31) Python program to print negative numbers in a list"
   ]
  },
  {
   "cell_type": "code",
   "execution_count": 18,
   "metadata": {},
   "outputs": [
    {
     "data": {
      "text/plain": [
       "[-3, -7]"
      ]
     },
     "execution_count": 18,
     "metadata": {},
     "output_type": "execute_result"
    }
   ],
   "source": [
    "def neg_num(arr):\n",
    "    try:\n",
    "        if isinstance(arr, list):\n",
    "            neg = [num for num in arr if num < 0]\n",
    "            return neg\n",
    "        else:\n",
    "            print(\"Unexpected Input Type\")\n",
    "    except Exception as e:\n",
    "        print(\"Exception is:\" + str(e))\n",
    "# Driver Code\n",
    "arr = [0,2,-3,4,5,6,-7,]\n",
    "res = neg_num(arr)\n",
    "res"
   ]
  },
  {
   "cell_type": "markdown",
   "metadata": {},
   "source": [
    "32) Python program to print all Strong numbers in given list"
   ]
  },
  {
   "cell_type": "code",
   "execution_count": 1,
   "metadata": {},
   "outputs": [
    {
     "data": {
      "text/plain": [
       "[145]"
      ]
     },
     "execution_count": 1,
     "metadata": {},
     "output_type": "execute_result"
    }
   ],
   "source": [
    "from math import factorial\n",
    "\n",
    "def strong_number(arr):\n",
    "    fact_dict = {}\n",
    "    for num in range(1,10):\n",
    "        fact_dict[num] = factorial(num)\n",
    "    try:\n",
    "        if isinstance(arr, list):\n",
    "            strong = []\n",
    "            res = [sum([fact_dict[int(digit)] for digit in i ]) for i in list(map(lambda x:str(x), arr))]\n",
    "            for index in range(len(arr)):\n",
    "                if arr[index] == res[index]:\n",
    "                    strong.append(arr[index])\n",
    "                    break\n",
    "            return strong\n",
    "        else:\n",
    "            print(\"Unexpected Input Type\")\n",
    "    except Exception as e:\n",
    "        print(\"Exception is:\" + str(e))\n",
    "\n",
    "# Driver Code\n",
    "arr = [123,145,2,364]\n",
    "r = strong_number(arr)\n",
    "r"
   ]
  },
  {
   "cell_type": "markdown",
   "metadata": {},
   "source": [
    "33) Merging duplicates to list of list"
   ]
  },
  {
   "cell_type": "code",
   "execution_count": 3,
   "metadata": {},
   "outputs": [
    {
     "data": {
      "text/plain": [
       "[[1, 1], [2, 2, 2], [3, 3, 3], [4], [5], [6, 6, 6], [9]]"
      ]
     },
     "execution_count": 3,
     "metadata": {},
     "output_type": "execute_result"
    }
   ],
   "source": [
    "def group_duplicates(arr):\n",
    "    try:\n",
    "        if isinstance(arr, list):\n",
    "            data_dict = {}\n",
    "            for ele in arr:\n",
    "                if ele in data_dict:\n",
    "                    data_dict[ele] += 1\n",
    "                else:\n",
    "                    data_dict[ele] = 1\n",
    "            res = [ [key]*value for key,value in data_dict.items()]\n",
    "            return res\n",
    "    except Exception as e:\n",
    "        print(\"Exception is:\" + str(e))\n",
    "\n",
    "# Driver Code\n",
    "arr = [1,2,3,3,3,4,5,6,6,6,2,2,1,9]\n",
    "res = group_duplicates(arr)\n",
    "res"
   ]
  },
  {
   "cell_type": "markdown",
   "metadata": {},
   "source": [
    "34) Convert list of numerical string to list of Integers"
   ]
  },
  {
   "cell_type": "code",
   "execution_count": 1,
   "metadata": {},
   "outputs": [
    {
     "data": {
      "text/plain": [
       "[1, 2, 3, 4, 5]"
      ]
     },
     "execution_count": 1,
     "metadata": {},
     "output_type": "execute_result"
    }
   ],
   "source": [
    "def str2list(arr):\n",
    "    try:\n",
    "        if isinstance(arr, str):\n",
    "            if isinstance(eval(arr), list):\n",
    "                return eval(arr)\n",
    "            else:\n",
    "                print(\"Array is not list\")\n",
    "        else:\n",
    "            print(\"Unexpected type of input\")\n",
    "    except Exception as e:\n",
    "        print(\"Exception is :\" + str(e))\n",
    "\n",
    "# Driver Code\n",
    "arr = \"   [1,2,3,4,5] \"\n",
    "res = str2list(arr)\n",
    "res"
   ]
  },
  {
   "cell_type": "markdown",
   "metadata": {},
   "source": [
    "35) Remove Duplicates from a List"
   ]
  },
  {
   "cell_type": "code",
   "execution_count": 2,
   "metadata": {},
   "outputs": [
    {
     "data": {
      "text/plain": [
       "[1, 2, 3, 4, 5, 7]"
      ]
     },
     "execution_count": 2,
     "metadata": {},
     "output_type": "execute_result"
    }
   ],
   "source": [
    "def removeDup(arr):\n",
    "    try:\n",
    "        if isinstance(arr, list):\n",
    "            res = list(set(arr))\n",
    "            return res\n",
    "        else:\n",
    "            print(\"Unexpected Input Type\")\n",
    "    except Exception as e:\n",
    "        print(\"Exception is:\" + str(e))\n",
    "\n",
    "# Driver Code\n",
    "arr = [1,2,3,4,2,3,4,5,1,7]\n",
    "res = removeDup(arr)\n",
    "res"
   ]
  },
  {
   "cell_type": "markdown",
   "metadata": {},
   "source": [
    "36) Remove consecutive duplicates from list"
   ]
  },
  {
   "cell_type": "code",
   "execution_count": 5,
   "metadata": {},
   "outputs": [
    {
     "data": {
      "text/plain": [
       "[1, 2, 3, 4]"
      ]
     },
     "execution_count": 5,
     "metadata": {},
     "output_type": "execute_result"
    }
   ],
   "source": [
    "def removeConsective(arr):\n",
    "    try:\n",
    "        if isinstance(arr, list):\n",
    "            arr.append('extra')\n",
    "            res = [ arr[ind] for ind in range(len(arr)-1) if arr[ind] != arr[ind+1]]\n",
    "            return res\n",
    "        else:\n",
    "            print(\"Unexpected Input Type\")\n",
    "    except Exeption as e:\n",
    "        print(\"Exception is: \" + str(e))\n",
    "        \n",
    "# Driver Code\n",
    "arr = [1,2,2,2,3,3,3,4,4,4,]\n",
    "res = removeConsective(arr)\n",
    "res"
   ]
  },
  {
   "cell_type": "markdown",
   "metadata": {},
   "source": [
    "37) Ways to remove duplicates from list"
   ]
  },
  {
   "cell_type": "code",
   "execution_count": 77,
   "metadata": {},
   "outputs": [
    {
     "name": "stdout",
     "output_type": "stream",
     "text": [
      "[1, 2, 3, 4, 5, 6]\n",
      "['a', 'v', 'd']\n"
     ]
    }
   ],
   "source": [
    "# Using Set Method\n",
    "def dup1(arr):\n",
    "    try:\n",
    "        if isinstance(arr, list):\n",
    "            res = set(arr)\n",
    "            return list(res)\n",
    "        else:\n",
    "            print(\"Unexpected Input Type\")\n",
    "    except Exception as e:\n",
    "        print(\"Exception is: \" + str(e))\n",
    "\n",
    "# Driver Code\n",
    "arr = [1,1,2,3,4,4,5,3,2,6]\n",
    "res = dup1(arr)\n",
    "print(res)\n",
    "        \n",
    "# Using Dict\n",
    "def dup2(arr):\n",
    "    try:\n",
    "        if isinstance(arr, list):\n",
    "            res = list(dict.fromkeys(arr))\n",
    "            return res\n",
    "        else:\n",
    "            print(\"Unexpected Input Type\")\n",
    "    except Exception as e:\n",
    "        print(\"Exception is: \" + str(e))\n",
    "\n",
    "# Driver Code\n",
    "arr = ['a','a','a','v','v','d']\n",
    "res = dup2(arr)\n",
    "print(res)"
   ]
  },
  {
   "cell_type": "markdown",
   "metadata": {},
   "source": [
    "38) Remove duplicates from nested list"
   ]
  },
  {
   "cell_type": "code",
   "execution_count": 20,
   "metadata": {},
   "outputs": [
    {
     "data": {
      "text/plain": [
       "[(3, 2, 3), (2, 3, 3), (1, 4, 5), (1, 2, 3)]"
      ]
     },
     "execution_count": 20,
     "metadata": {},
     "output_type": "execute_result"
    }
   ],
   "source": [
    "def removeDupNested(arr):\n",
    "    try:\n",
    "        if isinstance(arr, list):\n",
    "            res = set(map(lambda x: tuple(x), arr))            \n",
    "            return list(res)\n",
    "        else:\n",
    "            print(\"Unexpected Input Type\")\n",
    "    except Exception as e:\n",
    "        print(\"Exception is: \" + str(e))\n",
    "        \n",
    "# driver Code\n",
    "arr = [[1,2,3],[1,2,3],[3,2,3],[2,3,3],[1,4,5]]\n",
    "res = removeDupNested(arr)\n",
    "res"
   ]
  },
  {
   "cell_type": "markdown",
   "metadata": {},
   "source": [
    "39) Remove all duplicates and permutations in nested list"
   ]
  },
  {
   "cell_type": "code",
   "execution_count": 17,
   "metadata": {},
   "outputs": [
    {
     "data": {
      "text/plain": [
       "[(2, 3, 3), (1, 4, 5), (1, 2, 3)]"
      ]
     },
     "execution_count": 17,
     "metadata": {},
     "output_type": "execute_result"
    }
   ],
   "source": [
    "def removeDupPermNested(arr):\n",
    "    try:\n",
    "        if isinstance(arr, list):\n",
    "            res = set(map(lambda x: tuple(sorted(x)), arr))            \n",
    "            return list(res)\n",
    "        else:\n",
    "            print(\"Unexpected Input Type\")\n",
    "    except Exception as e:\n",
    "        print(\"Exception is: \" + str(e))\n",
    "        \n",
    "# driver Code\n",
    "arr = [[1,2,3],[2,1,3],[3,2,1],[3,2,3],[2,3,3],[1,4,5]]\n",
    "res = removeDupPermNested(arr)\n",
    "res"
   ]
  },
  {
   "cell_type": "markdown",
   "metadata": {},
   "source": [
    "40) Split a list having single integer"
   ]
  },
  {
   "cell_type": "code",
   "execution_count": 30,
   "metadata": {},
   "outputs": [
    {
     "data": {
      "text/plain": [
       "[1, 2, 3, 4, 5, 6, 7, 8, 9]"
      ]
     },
     "execution_count": 30,
     "metadata": {},
     "output_type": "execute_result"
    }
   ],
   "source": [
    "def splitList(arr):\n",
    "    try:\n",
    "        if isinstance(arr, list):\n",
    "            res = [int(digit) for num in list(map(lambda x : str(x), arr)) for digit in num]\n",
    "            return res\n",
    "        else:\n",
    "            print(\"Unexpected Input Type\")\n",
    "    except Exception as e:\n",
    "        print(\"Exception is: \" + str(e))\n",
    "        \n",
    "# Driver Code\n",
    "arr = [123,456,789]\n",
    "res = splitList(arr)\n",
    "res"
   ]
  },
  {
   "cell_type": "markdown",
   "metadata": {},
   "source": [
    "41) Convert list of numerical string to list of Integers"
   ]
  },
  {
   "cell_type": "code",
   "execution_count": 32,
   "metadata": {},
   "outputs": [
    {
     "data": {
      "text/plain": [
       "[1, 2, 3, 4]"
      ]
     },
     "execution_count": 32,
     "metadata": {},
     "output_type": "execute_result"
    }
   ],
   "source": [
    "def strnum2intlist(arr):\n",
    "    try:\n",
    "        if isinstance(arr, list):\n",
    "            res = list(map(lambda x: int(x), arr))\n",
    "            return res\n",
    "        else:\n",
    "            print(\"Unexpected Input Type\")\n",
    "    except Exception as e:\n",
    "        print(\"Exception is: \" + str(e))\n",
    "\n",
    "# Driver Code\n",
    "arr = ['1','2','3','4']\n",
    "res = strnum2intlist(arr)\n",
    "res"
   ]
  },
  {
   "cell_type": "markdown",
   "metadata": {},
   "source": [
    "42) Convert number to list of integers"
   ]
  },
  {
   "cell_type": "code",
   "execution_count": 33,
   "metadata": {},
   "outputs": [
    {
     "data": {
      "text/plain": [
       "[1, 9, 6]"
      ]
     },
     "execution_count": 33,
     "metadata": {},
     "output_type": "execute_result"
    }
   ],
   "source": [
    "def num2intlist(num):\n",
    "    try:\n",
    "        if isinstance(num, int):\n",
    "            res = [ int(i) for i in str(num)]\n",
    "            return res\n",
    "        else:\n",
    "            print(\"Unexpected Input Type\")\n",
    "    except Exception as e:\n",
    "        print(\"Exception is: \" + str(e))\n",
    "\n",
    "# Driver Code\n",
    "num = 196\n",
    "res = num2intlist(num)\n",
    "res"
   ]
  },
  {
   "cell_type": "markdown",
   "metadata": {},
   "source": [
    "43) Print Single and Multiple variable in Python"
   ]
  },
  {
   "cell_type": "code",
   "execution_count": 40,
   "metadata": {},
   "outputs": [
    {
     "name": "stdout",
     "output_type": "stream",
     "text": [
      "My name is Satish\n",
      "My name is Satish and write program using Python prgramming language on Windows 10 system.\n"
     ]
    }
   ],
   "source": [
    "# Single Varibale\n",
    "Name = 'Satish'\n",
    "print(\"My name is {name}\".format(name=Name))\n",
    "\n",
    "# Multiple Varibale\n",
    "Programing = 'Python'\n",
    "OS = 'Windows 10'\n",
    "print(\"My name is {name} and write program using {language} prgramming language on {os} system.\".format(name=Name,\n",
    "                                                                                                        language=Programing,\n",
    "                                                                                                       os=OS))"
   ]
  },
  {
   "cell_type": "markdown",
   "metadata": {},
   "source": [
    "44) Replace multiple occurrence of character by single"
   ]
  },
  {
   "cell_type": "code",
   "execution_count": 6,
   "metadata": {},
   "outputs": [
    {
     "data": {
      "text/plain": [
       "'geksfor'"
      ]
     },
     "execution_count": 6,
     "metadata": {},
     "output_type": "execute_result"
    }
   ],
   "source": [
    "def stripduplicates(string):\n",
    "    try:\n",
    "        if isinstance(string, str):\n",
    "            res = \"\".join(str(i) for i in list(dict.fromkeys(string)))\n",
    "            return res\n",
    "        else:\n",
    "            print(\"Unexpected Input type\")\n",
    "    except Exception as e:\n",
    "        print(\"Exception is: \" + str(e))\n",
    "\n",
    "# Driver Code\n",
    "string = \"geeksforgeek\"\n",
    "res = stripduplicates(string)\n",
    "res"
   ]
  },
  {
   "cell_type": "markdown",
   "metadata": {},
   "source": [
    "45) Ways to convert Boolean values to integer"
   ]
  },
  {
   "cell_type": "code",
   "execution_count": 43,
   "metadata": {},
   "outputs": [
    {
     "data": {
      "text/plain": [
       "0"
      ]
     },
     "execution_count": 43,
     "metadata": {},
     "output_type": "execute_result"
    }
   ],
   "source": [
    "def bool2int(Bool):\n",
    "    try:\n",
    "        if isinstance(Bool, bool):\n",
    "            return int(Bool)\n",
    "        else:\n",
    "            print(\"Unexpected Input Type\")\n",
    "    except Exception as e:\n",
    "        print(\"Exception is: \" + str(e))\n",
    "\n",
    "# Driver Code\n",
    "Bool = False\n",
    "res = bool2int(Bool)\n",
    "res"
   ]
  },
  {
   "cell_type": "markdown",
   "metadata": {},
   "source": [
    "46) Associating a single value with all list items"
   ]
  },
  {
   "cell_type": "code",
   "execution_count": 44,
   "metadata": {},
   "outputs": [
    {
     "data": {
      "text/plain": [
       "[(1, 'xyz'), (2, 'xyz'), (3, 'xyz'), (4, 'xyz'), (5, 'xyz')]"
      ]
     },
     "execution_count": 44,
     "metadata": {},
     "output_type": "execute_result"
    }
   ],
   "source": [
    "def association(arr, val):\n",
    "    try:\n",
    "        if isinstance(arr, list):\n",
    "            res = list(map(lambda x: (x, val), arr))\n",
    "            return res\n",
    "        else:\n",
    "            print(\"Unexpected Input Type\")\n",
    "    except Exception as e:\n",
    "        print(\"Exception is: \" + str(e))\n",
    "\n",
    "# Driver Code\n",
    "arr, val = [1,2,3,4,5], 'xyz'\n",
    "res = association(arr, val)\n",
    "res"
   ]
  },
  {
   "cell_type": "markdown",
   "metadata": {},
   "source": [
    "47) Convert list of string to list of list"
   ]
  },
  {
   "cell_type": "code",
   "execution_count": 47,
   "metadata": {},
   "outputs": [
    {
     "data": {
      "text/plain": [
       "[[1, 2, 3], [4, 5, 6]]"
      ]
     },
     "execution_count": 47,
     "metadata": {},
     "output_type": "execute_result"
    }
   ],
   "source": [
    "def liststr2list(arr):\n",
    "    try:\n",
    "        if isinstance(arr, list):\n",
    "            res = list(map(lambda x: eval(x), arr))\n",
    "            return res\n",
    "        else:\n",
    "            print(\"Unexpected Input Type\")\n",
    "    except Exception as e:\n",
    "        print(\"Exception is: \" + str(e))\n",
    "\n",
    "# Driver Code\n",
    "arr = [ '[1, 2, 3]', '[4, 5, 6]' ]\n",
    "res = liststr2list(arr)\n",
    "res"
   ]
  },
  {
   "cell_type": "markdown",
   "metadata": {},
   "source": [
    "48) Convert list of tuples to list of list"
   ]
  },
  {
   "cell_type": "code",
   "execution_count": 49,
   "metadata": {},
   "outputs": [
    {
     "data": {
      "text/plain": [
       "[[1, 2, 3], [3, 4, 5], [2, 4, 6], [3, 5, 8], [9, 5, 2]]"
      ]
     },
     "execution_count": 49,
     "metadata": {},
     "output_type": "execute_result"
    }
   ],
   "source": [
    "def listtup2listlist(arr):\n",
    "    try:\n",
    "        if isinstance(arr, list):\n",
    "            res = [ list(tup) for tup in arr]\n",
    "            return res\n",
    "        else:\n",
    "            print(\"Unexpected Input Type\")\n",
    "    except Exception as e:\n",
    "        print(\"Exception is: \" + str(e))\n",
    "\n",
    "# Driver Code\n",
    "arr = [(1,2,3),(3,4,5),(2,4,6),(3,5,8),(9,5,2)]\n",
    "res = listtup2listlist(arr)\n",
    "res"
   ]
  },
  {
   "cell_type": "markdown",
   "metadata": {},
   "source": [
    "49) Convert list of strings to list of tuples"
   ]
  },
  {
   "cell_type": "code",
   "execution_count": 64,
   "metadata": {},
   "outputs": [
    {
     "name": "stdout",
     "output_type": "stream",
     "text": [
      "Input ['1,2,3'] and output [(1, 2, 3)]\n",
      "Input ['red', 'blue', 'green'] and output [('red',), ('blue',), ('green',)]\n"
     ]
    }
   ],
   "source": [
    "def liststr2listtup1(arr):\n",
    "    try:\n",
    "        if isinstance(arr, list):\n",
    "            res = list(map(lambda x: eval(x), arr))\n",
    "            return res\n",
    "        else:\n",
    "            print(\"Unexpected Input Type\")\n",
    "    except Exception as e:\n",
    "        print(\"Exception is: \" + str(e))\n",
    "        \n",
    "# Driver Code\n",
    "arr = [ '1,2,3'] \n",
    "res = liststr2listtup1(arr)\n",
    "print(\"Input {} and output {}\".format(arr, res))\n",
    "\n",
    "def liststr2listtup2(arr):\n",
    "    try:\n",
    "        if isinstance(arr, list):\n",
    "            res = list(map(lambda x: tuple([x]), colors))\n",
    "            return res\n",
    "        else:\n",
    "            print(\"Unexpected Input Type\")\n",
    "    except Exception as e:\n",
    "        print(\"Exception is: \" + str(e))\n",
    "        \n",
    "# Driver Code\n",
    "colors = [\"red\", \"blue\", \"green\"] \n",
    "res = liststr2listtup2(arr)\n",
    "print(\"Input {} and output {}\".format(colors, res))"
   ]
  },
  {
   "cell_type": "markdown",
   "metadata": {},
   "source": [
    "50) Convert a string representation of list into list"
   ]
  },
  {
   "cell_type": "code",
   "execution_count": 65,
   "metadata": {},
   "outputs": [
    {
     "data": {
      "text/plain": [
       "[1, 2, 3, 4]"
      ]
     },
     "execution_count": 65,
     "metadata": {},
     "output_type": "execute_result"
    }
   ],
   "source": [
    "def str2list(var):\n",
    "    try:\n",
    "        if isinstance(var, str):\n",
    "            res = eval(var)\n",
    "            return res\n",
    "        else:\n",
    "            print(\"Unexpected Input Type\")\n",
    "    except Exception as e:\n",
    "        print(\"Exception is: \" + str(e))\n",
    "\n",
    "# Driver Code\n",
    "var = \"[1,2,3,4]\"\n",
    "res = str2list(var)\n",
    "res"
   ]
  },
  {
   "cell_type": "markdown",
   "metadata": {},
   "source": [
    "51) Convert string enclosed list to list"
   ]
  },
  {
   "cell_type": "code",
   "execution_count": 66,
   "metadata": {},
   "outputs": [
    {
     "data": {
      "text/plain": [
       "[1, 2, 3, 4]"
      ]
     },
     "execution_count": 66,
     "metadata": {},
     "output_type": "execute_result"
    }
   ],
   "source": [
    "def str2list2(var):\n",
    "    try:\n",
    "        if isinstance(var, str):\n",
    "            res = eval(var)\n",
    "            return res\n",
    "        else:\n",
    "            print(\"Unexpected Input Type\")\n",
    "    except Exception as e:\n",
    "        print(\"Exception is: \" + str(e))\n",
    "\n",
    "# Driver Code\n",
    "var = \"[1,2,3,4]\"\n",
    "res = str2list2(var)\n",
    "res"
   ]
  },
  {
   "cell_type": "markdown",
   "metadata": {},
   "source": [
    "52) Convert 1D list to 2D list of variable length"
   ]
  },
  {
   "cell_type": "code",
   "execution_count": 71,
   "metadata": {},
   "outputs": [
    {
     "data": {
      "text/plain": [
       "[[0, 1, 2], [3, 4, 5, 6, 7]]"
      ]
     },
     "execution_count": 71,
     "metadata": {},
     "output_type": "execute_result"
    }
   ],
   "source": [
    "def list2d(arr):\n",
    "    try:\n",
    "        if isinstance(arr, list):\n",
    "            res = [arr[:len(arr)//2-1], arr[len(arr)//2-1:]]\n",
    "            return res\n",
    "        else:\n",
    "            print(\"Unexpected Input Type\")\n",
    "    except Exception as e:\n",
    "        print(\"Exception is: \" + str(e))\n",
    "        \n",
    "# Driver Code\n",
    "arr = [0,1,2,3,4,5,6,7]\n",
    "res = list2d(arr)\n",
    "res"
   ]
  },
  {
   "cell_type": "markdown",
   "metadata": {},
   "source": [
    "53) Convert list of tuples to list of strings"
   ]
  },
  {
   "cell_type": "code",
   "execution_count": 84,
   "metadata": {},
   "outputs": [
    {
     "name": "stdout",
     "output_type": "stream",
     "text": [
      "['123', '345']\n",
      "['Mon', 'sun']\n"
     ]
    }
   ],
   "source": [
    "def listtup2liststr(arr):\n",
    "    try:\n",
    "        if isinstance(arr, list):\n",
    "            res = list(map(''.join, [tuple(str(ele) for ele in tup) for tup in arr]))\n",
    "            return res\n",
    "        else:\n",
    "            print(\"Unexpected Input Type\")\n",
    "    except Exception as e:\n",
    "        print(\"Exception is: \" + str(e))\n",
    "        \n",
    "# Driver Code\n",
    "arr = [(1,2,3),(3,4,5)]\n",
    "res = listtup2liststr(arr)\n",
    "print(res)\n",
    "arr1 = [('M','o','n'),('s','u','n')]\n",
    "res2 = listtup2liststr(arr1)\n",
    "print(res2)"
   ]
  },
  {
   "cell_type": "code",
   "execution_count": 5,
   "metadata": {},
   "outputs": [
    {
     "name": "stdout",
     "output_type": "stream",
     "text": [
      "absgf\n"
     ]
    }
   ],
   "source": [
    "a = 'aabbssgf'\n",
    "print()"
   ]
  },
  {
   "cell_type": "code",
   "execution_count": null,
   "metadata": {},
   "outputs": [],
   "source": []
  },
  {
   "cell_type": "code",
   "execution_count": null,
   "metadata": {},
   "outputs": [],
   "source": []
  },
  {
   "cell_type": "code",
   "execution_count": null,
   "metadata": {},
   "outputs": [],
   "source": []
  }
 ],
 "metadata": {
  "kernelspec": {
   "display_name": "Python 3",
   "language": "python",
   "name": "python3"
  },
  "language_info": {
   "codemirror_mode": {
    "name": "ipython",
    "version": 3
   },
   "file_extension": ".py",
   "mimetype": "text/x-python",
   "name": "python",
   "nbconvert_exporter": "python",
   "pygments_lexer": "ipython3",
   "version": "3.7.6"
  }
 },
 "nbformat": 4,
 "nbformat_minor": 4
}
